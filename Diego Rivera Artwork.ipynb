{
 "cells": [
  {
   "cell_type": "code",
   "execution_count": 1,
   "metadata": {
    "collapsed": true
   },
   "outputs": [],
   "source": [
    "import base64\n",
    "from collections import namedtuple\n",
    "import csv\n",
    "import glob\n",
    "import io\n",
    "import pandas\n",
    "import ntpath\n",
    "\n",
    "from absl import app\n",
    "from absl import flags\n",
    "from absl import logging\n",
    "\n",
    "from apiclient import discovery\n",
    "from concurrent import futures"
   ]
  },
  {
   "cell_type": "code",
   "execution_count": 70,
   "metadata": {
    "collapsed": true
   },
   "outputs": [],
   "source": [
    "import matplotlib.pyplot as plt\n",
    "import numpy as np\n",
    "%matplotlib inline"
   ]
  },
  {
   "cell_type": "code",
   "execution_count": 2,
   "metadata": {
    "collapsed": true
   },
   "outputs": [],
   "source": [
    "FLAGS = flags.FLAGS\n",
    "\n",
    "flags.DEFINE_string('api_key', None, 'API Key')\n",
    "flags.DEFINE_string('folder', '', 'Folder where images are located.')\n",
    "flags.DEFINE_string('results', '', 'File to store image labels.')\n",
    "flags.DEFINE_boolean('graph', True, 'Analyze labels from results file.')"
   ]
  },
  {
   "cell_type": "code",
   "execution_count": 3,
   "metadata": {
    "collapsed": true
   },
   "outputs": [],
   "source": [
    "# Google Cloud information.\n",
    "_API_NAME = 'vision'\n",
    "_API_VERSION = 'v1'\n",
    "_MAX_RESULTS = 10\n",
    "_NUM_RETRIES = 3\n",
    "\n",
    "# Image columns.\n",
    "_MASTER_FIELD = 'master_id'\n",
    "_FILE_LOCATION = 'path'\n",
    "_LABELS = 'labels'\n",
    "\n",
    "# File information.\n",
    "_FILE_RESULTS = 'images_results.csv'\n",
    "\n",
    "# Concurrent parameters.\n",
    "_MAX_WORKERS = 10\n",
    "_EXECUTOR_TIMEOUT = 60\n",
    "\n",
    "# API information.\n",
    "_RESPONSES = 'responses'\n",
    "_ANNOTATIONS = 'labelAnnotations'\n",
    "_DESCRIPTION = 'description'\n",
    "\n",
    "ArtWorkImage = namedtuple('ArtWorkImage', (_MASTER_FIELD, _FILE_LOCATION))"
   ]
  },
  {
   "cell_type": "code",
   "execution_count": 4,
   "metadata": {
    "collapsed": true
   },
   "outputs": [],
   "source": [
    "def _GetService(api_key):\n",
    "    \"\"\"Gets service instance to start API searches.\n",
    "\n",
    "    Args:\n",
    "      api_key: key obtained from https://code.google.com/apis/console.\n",
    "\n",
    "    Returns:\n",
    "      A Google API Service used to send requests.\n",
    "    \"\"\"\n",
    "\n",
    "    return discovery.build(_API_NAME, _API_VERSION, developerKey=api_key,\n",
    "                           cache_discovery=False)\n",
    "\n",
    "\n",
    "def _IsEmpty(data):\n",
    "    \"\"\"Check if Pandas dataFrame is empty or not.\n",
    "\n",
    "    Args:\n",
    "        data: (pandas.DataFrame) Dataframe to process.\n",
    "\n",
    "    Returns:\n",
    "        A boolean. True if the given data is interpreted as empty\n",
    "    \"\"\"\n",
    "\n",
    "    if data is not None and not data.empty:\n",
    "        return False\n",
    "    return True\n",
    "\n",
    "\n",
    "def LoadDataSet(folder):\n",
    "    \"\"\"Reads folder and generates a list of filenames path.\n",
    "\n",
    "    Args:\n",
    "      folder: (str) Local or remote readable path.\n",
    "\n",
    "    Returns:\n",
    "      A collections.Sequence with tuples of filename and paths.\n",
    "\n",
    "    Raises:\n",
    "      FileError: Unable to read filename.\n",
    "      ValueError: Invalid folder, No data in file.\n",
    "    \"\"\"\n",
    "\n",
    "    if not folder:\n",
    "        raise ValueError('Invalid folder')\n",
    "\n",
    "    logging.info('Reading folder: %s.', folder)\n",
    "    image_list = glob.glob('%s/*.png' % folder)\n",
    "    image_list.extend(glob.glob('%s/*.jpg' % folder))\n",
    "    logging.info('Found %d images in folder: %s ', len(image_list), folder)\n",
    "    return [(ntpath.basename(image), image) for image in image_list]\n",
    "\n",
    "\n",
    "def LoadResultsFile(filename):\n",
    "    \"\"\"Reads filename and generates a Pandas DataFrame with labels.\n",
    "\n",
    "    Args:\n",
    "      filename: (str) Local CSV file used as input.\n",
    "\n",
    "    Returns:\n",
    "      Pandas.DataFrame: CSV contents.\n",
    "\n",
    "    Raises:\n",
    "      FileError: Unable to read filename.\n",
    "      ValueError: Invalid file, No data in file.\n",
    "    \"\"\"\n",
    "\n",
    "    if not filename:\n",
    "        raise ValueError('Invalid filename')\n",
    "    logging.info('Reading file: %s.', filename)\n",
    "    # Generates a pandas.DataFrame from data in file.\n",
    "    with open(filename) as input_file:\n",
    "        dataframe = input_file.read()\n",
    "    return pandas.read_csv(\n",
    "        io.BytesIO(dataframe), names=[_MASTER_FIELD, _LABELS],\n",
    "        header=None)\n",
    "\n",
    "\n",
    "def SaveDataSet(image_list, filename):\n",
    "    \"\"\"Write list of lists in file.\n",
    "\n",
    "    Args:\n",
    "      movie_list: (list of sets) The input list to be written.\n",
    "      filename: (str) Destination file.\n",
    "\n",
    "    Raises:\n",
    "      FileError: Unable to read filename.\n",
    "      ValueError: Movie list is empty.\n",
    "    \"\"\"\n",
    "\n",
    "    if not image_list:\n",
    "        raise ValueError('Image list is empty')\n",
    "    logging.info('Saving Image results in %s.', filename)\n",
    "    # Write results into a file.\n",
    "    with open(filename, 'w+') as csv_file:\n",
    "        csv.writer(csv_file).writerows(image_list)\n",
    "\n",
    "\n",
    "def ExtractImageData(filename):\n",
    "    \"\"\"Extract content data from Image.\n",
    "\n",
    "    Args:\n",
    "      filename: (str) File of the Image.\n",
    "\n",
    "    Returns:\n",
    "      Image content as str.\n",
    "    \"\"\"\n",
    "\n",
    "    with open(filename) as image_file:\n",
    "        return image_file.read()\n",
    "\n",
    "\n",
    "def GetImages(image_list):\n",
    "    \"\"\"Get a list of file location for each Image in ImageList.\n",
    "\n",
    "    This method generates a list of Image objects, ArtWorkImage contains\n",
    "    the Image master_id and path where the Image is located.\n",
    "\n",
    "    Args:\n",
    "      image_list: list.\n",
    "\n",
    "    Returns:\n",
    "      A collections.Sequence of ArtWorkImage namedtuples.\n",
    "\n",
    "    Raises:\n",
    "      ValueError: No Images records found.\n",
    "    \"\"\"\n",
    "\n",
    "    if not image_list:\n",
    "        raise ValueError('Invalid images')\n",
    "    return [ArtWorkImage(*image) for image in image_list]\n",
    "\n",
    "\n",
    "def _ExtractLabels(image):\n",
    "    \"\"\"Extract labels from Image using Google Cloud Vision API.\n",
    "\n",
    "    Args:\n",
    "      image: (ArtWorkImage) MovieImage object.\n",
    "\n",
    "    Returns:\n",
    "      list: List of labels found in Movie image.\n",
    "    \"\"\"\n",
    "\n",
    "    # Initialize Cloud Vision client.\n",
    "    service = _GetService(FLAGS.api_key)\n",
    "    if not image.path:\n",
    "        logging.error('No movie path found for: %s.', image.master_id)\n",
    "        return\n",
    "    image_data = ExtractImageData(image.path)\n",
    "    batch_request = [{\n",
    "        'image': {\n",
    "            'content': base64.b64encode(image_data).decode('UTF-8')\n",
    "        },\n",
    "        'features': [{\n",
    "            'type': 'LABEL_DETECTION',\n",
    "            'maxResults': _MAX_RESULTS,\n",
    "        }]\n",
    "    }]\n",
    "    request = service.images().annotate(body={'requests': batch_request})\n",
    "    # Send API request to Google Cloud Vision API.\n",
    "    response = request.execute(num_retries=_NUM_RETRIES)\n",
    "    return _HandleApiResponse(response)\n",
    "\n",
    "\n",
    "def _HandleApiResponse(response):\n",
    "    \"\"\"Process JSON from API response.\n",
    "\n",
    "    Args:\n",
    "      response: (str): string in JSON format.\n",
    "\n",
    "    Returns:\n",
    "      A list of labels as a 'bag of words' or empty string if no labels found.\n",
    "\n",
    "    Raises:\n",
    "      ValueError: No response.\n",
    "    \"\"\"\n",
    "\n",
    "    if not response:\n",
    "        raise ValueError('No response')\n",
    "    if _RESPONSES not in response:\n",
    "        logging.error('No responses found.')\n",
    "        return []\n",
    "    if len(response[_RESPONSES]) != 1:\n",
    "        logging.error('No labelAnnotations value in responses.')\n",
    "        return []\n",
    "    annotations = response[_RESPONSES][0]\n",
    "    text_labels = []\n",
    "    # Extract Label annotations.\n",
    "    if _ANNOTATIONS in annotations:\n",
    "        for annotation in annotations[_ANNOTATIONS]:\n",
    "            if _DESCRIPTION in annotation:\n",
    "                text_labels.append(annotation[_DESCRIPTION])\n",
    "    logging.info('Number of labels found: %d.', len(text_labels))\n",
    "    return _GenerateBagOfWords(text_labels)\n",
    "\n",
    "\n",
    "def _GenerateBagOfWords(list_of_words):\n",
    "    \"\"\"Generates a bag of words from a word list.\n",
    "\n",
    "    Args:\n",
    "      list_of_words: (list) The list of words (unicode or str).\n",
    "\n",
    "    Returns:\n",
    "      (str): List of words as string comma separated.\n",
    "    \"\"\"\n",
    "    if not list_of_words:\n",
    "        return ''\n",
    "    # Generate a bag of words from list using comma as default separator.\n",
    "    return ','.join(\n",
    "        s.encode('utf-8') if isinstance(s, unicode) else str(s)\n",
    "        for s in list_of_words)\n",
    "\n",
    "\n",
    "def ProcessImageList(image_list):\n",
    "    \"\"\"Extract labels from image, image resides in CNS or local file.\n",
    "\n",
    "    Args:\n",
    "      movies: (list). Contains movie information.\n",
    "\n",
    "    Returns:\n",
    "      list: List of tuples (master_id, image labels).\n",
    "\n",
    "    Raises:\n",
    "        ValueError: Invalid movie image list.\n",
    "    \"\"\"\n",
    "\n",
    "    if not image_list:\n",
    "        raise ValueError('Invalid image list')\n",
    "\n",
    "    image_labels = []\n",
    "    with futures.ThreadPoolExecutor(max_workers=_MAX_WORKERS) as executor:\n",
    "        # Start the load operations and mark each future with its Image id.\n",
    "        future_to_url = {\n",
    "            executor.submit(_ExtractLabels, image): image for image in\n",
    "            image_list}\n",
    "        for future in futures.as_completed(future_to_url):\n",
    "            image = future_to_url[future]\n",
    "            try:\n",
    "                image_labels.append((image.master_id, future.result()))\n",
    "            except ValueError as e:\n",
    "                logging.exception('Exception at: %s, %s', image.master_id, e)\n",
    "    return image_labels\n",
    "\n",
    "\n",
    "def AnalyzeLabels(dataframe):\n",
    "    \"\"\"Analyze labels in text.\n",
    "\n",
    "    Format:\n",
    "    MASTER_ID, LABELS\n",
    "    TheArsenal_1928.png,\"art,mural,painting,artwork,recreation\"\n",
    "\n",
    "    :param dataframe:\n",
    "    :return:\n",
    "    \"\"\"\n",
    "    entities = {}\n",
    "    for _, labels in dataframe.iterrows():\n",
    "        for label in labels[1].split(','):\n",
    "            if entities.get(label):\n",
    "                entities[label] += 1\n",
    "            else:\n",
    "                entities[label] = 1\n",
    "    return entities"
   ]
  },
  {
   "cell_type": "code",
   "execution_count": 9,
   "metadata": {
    "collapsed": true
   },
   "outputs": [],
   "source": [
    "entities = {\"infant\": 1, \"chariot\": 1, \"glass bottle\": 1, \"street art\": 1, \"beak\": 2, \"yellow\": 4, \"human\": 3, \"cucurbita\": 1, \"chicken\": 1, \"font\": 3, \"human behavior\": 17, \"sunflower\": 1, \"cup\": 2, \"gourd\": 1, \"tourism\": 1, \"horse like mammal\": 7, \"sky\": 1, \"local food\": 1, \"abbey\": 1, \"horse tack\": 1, \"tail\": 1, \"figurine\": 1, \"calabaza\": 1, \"acrylic paint\": 11, \"place of worship\": 3, \"food\": 1, \"material\": 8, \"ecoregion\": 1, \"artwork\": 110, \"lady\": 2, \"chapel\": 3, \"recreation\": 6, \"organ\": 1, \"costume design\": 1, \"religious institute\": 1, \"mammal\": 2, \"floristry\": 2, \"picture frame\": 1, \"sketch\": 1, \"square\": 1, \"art\": 137, \"tree\": 5, \"mural\": 44, \"design\": 2, \"portrait\": 12, \"girl\": 1, \"archaeological site\": 2, \"flower\": 18, \"leaf\": 1, \"pattern\": 2, \"gentleman\": 3, \"religion\": 14, \"ancient history\": 3, \"baptistery\": 1, \"human body\": 1, \"bird\": 4, \"sunflower seed\": 1, \"stallion\": 1, \"dome\": 1, \"illustration\": 50, \"fictional character\": 5, \"flower arranging\": 1, \"drinkware\": 1, \"visual arts\": 55, \"wildlife\": 1, \"medieval architecture\": 3, \"column\": 1, \"miniature\": 1, \"self portrait\": 4, \"produce\": 2, \"crucifix\": 1, \"impressionist\": 22, \"middle ages\": 25, \"symmetry\": 3, \"wall\": 1, \"carnivoran\": 2, \"liqueur\": 1, \"elder\": 1, \"tableware\": 1, \"carving\": 6, \"landscape\": 2, \"flowering plant\": 5, \"standing\": 1, \"horse\": 5, \"vertebrate\": 2, \"window\": 4, \"fiction\": 2, \"paint\": 34, \"winter squash\": 1, \"religious item\": 1, \"agave\": 1, \"coffee cup\": 1, \"man\": 1, \"comic book\": 1, \"banana\": 1, \"vintage clothing\": 2, \"watercolor paint\": 17, \"door\": 3, \"poster\": 2, \"bird of prey\": 1, \"still life photography\": 10, \"child\": 3, \"floral design\": 1, \"photograph\": 1, \"flora\": 1, \"historic site\": 1, \"psychedelic art\": 1, \"gothic architecture\": 1, \"modern art\": 83, \"rural area\": 1, \"interaction\": 1, \"fauna\": 7, \"mythology\": 19, \"history\": 14, \"ranch\": 1, \"head\": 1, \"alley\": 1, \"rooster\": 1, \"galliformes\": 1, \"graphics\": 1, \"computer wallpaper\": 1, \"graffiti\": 4, \"cathedral\": 3, \"facade\": 2, \"waterway\": 1, \"stained glass\": 1, \"tapestry\": 8, \"stock photography\": 3, \"angle\": 1, \"textile\": 2, \"shrine\": 2, \"steppe\": 1, \"vegetable\": 1, \"toddler\": 1, \"disciple\": 1, \"plant\": 9, \"tourist attraction\": 1, \"pack animal\": 5, \"farm\": 1, \"fruit\": 2, \"arch\": 4, \"cartoon\": 2, \"hummingbird\": 1, \"building\": 4, \"reflection\": 1, \"painting\": 132, \"grass\": 1, \"still life\": 28, \"fate\": 1, \"green\": 1, \"jungle\": 1, \"bottle\": 1, \"mythical creature\": 2, \"organism\": 10, \"drawing\": 2}"
   ]
  },
  {
   "cell_type": "code",
   "execution_count": 12,
   "metadata": {
    "collapsed": true
   },
   "outputs": [],
   "source": [
    "def keyfunction(k):\n",
    "    return entities[k]"
   ]
  },
  {
   "cell_type": "code",
   "execution_count": 43,
   "metadata": {},
   "outputs": [],
   "source": [
    "top_words = [(key, entities[key]) for key in sorted(entities, key=keyfunction, reverse=True)[:25]]"
   ]
  },
  {
   "cell_type": "code",
   "execution_count": 71,
   "metadata": {},
   "outputs": [
    {
     "data": {
      "text/plain": [
       "[('art', 137),\n",
       " ('painting', 132),\n",
       " ('artwork', 110),\n",
       " ('modern art', 83),\n",
       " ('visual arts', 55),\n",
       " ('illustration', 50),\n",
       " ('mural', 44),\n",
       " ('paint', 34),\n",
       " ('still life', 28),\n",
       " ('middle ages', 25),\n",
       " ('impressionist', 22),\n",
       " ('mythology', 19),\n",
       " ('flower', 18),\n",
       " ('human behavior', 17),\n",
       " ('watercolor paint', 17),\n",
       " ('religion', 14),\n",
       " ('history', 14),\n",
       " ('portrait', 12),\n",
       " ('acrylic paint', 11),\n",
       " ('still life photography', 10),\n",
       " ('organism', 10),\n",
       " ('plant', 9),\n",
       " ('material', 8),\n",
       " ('tapestry', 8),\n",
       " ('horse like mammal', 7)]"
      ]
     },
     "execution_count": 71,
     "metadata": {},
     "output_type": "execute_result"
    }
   ],
   "source": [
    "top_words"
   ]
  },
  {
   "cell_type": "code",
   "execution_count": 72,
   "metadata": {
    "collapsed": true
   },
   "outputs": [],
   "source": [
    "N = len(top_words)"
   ]
  },
  {
   "cell_type": "code",
   "execution_count": 73,
   "metadata": {
    "collapsed": true
   },
   "outputs": [],
   "source": [
    "x = np.arange(1, N + 1)"
   ]
  },
  {
   "cell_type": "code",
   "execution_count": 74,
   "metadata": {
    "collapsed": true
   },
   "outputs": [],
   "source": [
    "y = [num for (s, num) in top_words]"
   ]
  },
  {
   "cell_type": "code",
   "execution_count": 75,
   "metadata": {
    "collapsed": true
   },
   "outputs": [],
   "source": [
    "labels = [s for (s, num) in top_words]"
   ]
  },
  {
   "cell_type": "code",
   "execution_count": 78,
   "metadata": {
    "collapsed": true
   },
   "outputs": [],
   "source": [
    "width = 0.5"
   ]
  },
  {
   "cell_type": "code",
   "execution_count": 87,
   "metadata": {},
   "outputs": [
    {
     "data": {
      "text/plain": [
       "(array([ 1.25,  2.25,  3.25,  4.25,  5.25,  6.25,  7.25,  8.25,  9.25,\n",
       "        10.25, 11.25, 12.25, 13.25, 14.25, 15.25, 16.25, 17.25, 18.25,\n",
       "        19.25, 20.25, 21.25, 22.25, 23.25, 24.25, 25.25]),\n",
       " <a list of 25 Text xticklabel objects>)"
      ]
     },
     "execution_count": 87,
     "metadata": {},
     "output_type": "execute_result"
    },
    {
     "data": {
      "image/png": "[encoded data removed]",
      "text/plain": [
       "<Figure size 432x288 with 1 Axes>"
      ]
     },
     "metadata": {},
     "output_type": "display_data"
    }
   ],
   "source": [
    "plt.bar(x, y, width, color='g')\n",
    "plt.ylabel('Frequency')\n",
    "plt.xlabel('Words')\n",
    "plt.title('Word occurence')\n",
    "plt.xticks(x + width/2.0, labels)\n",
    "plt.xticks(rotation=90)"
   ]
  },
  {
   "cell_type": "code",
   "execution_count": 66,
   "metadata": {
    "collapsed": true
   },
   "outputs": [],
   "source": [
    "plt.show()"
   ]
  }
 ],
 "metadata": {
  "kernelspec": {
   "display_name": "jupyter2_Python_2",
   "language": "python",
   "name": "jupyter2_python_2"
  },
  "language_info": {
   "codemirror_mode": {
    "name": "ipython",
    "version": 2
   },
   "file_extension": ".py",
   "mimetype": "text/x-python",
   "name": "python",
   "nbconvert_exporter": "python",
   "pygments_lexer": "ipython2",
   "version": "2.7.10"
  }
 },
 "nbformat": 4,
 "nbformat_minor": 2
}
